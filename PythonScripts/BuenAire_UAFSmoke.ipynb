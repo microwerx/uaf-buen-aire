{
 "cells": [
  {
   "cell_type": "code",
   "execution_count": 1,
   "metadata": {},
   "outputs": [],
   "source": [
    "import matplotlib.pyplot as plt\n",
    "import xarray as xr\n",
    "from PIL import Image"
   ]
  },
  {
   "cell_type": "code",
   "execution_count": 2,
   "metadata": {},
   "outputs": [],
   "source": [
    "dates = ['2019-06-20','2019-06-21','2019-06-22','2019-06-23','2019-06-24','2019-06-25','2019-06-26','2019-06-27','2019-06-28','2019-06-29']\n",
    "\n",
    "# Model Data\n",
    "for date in dates:\n",
    "    file = '/import/c1/WLDFIRE/UAFSmoke/'+date[0:4]+date[5:7]+date[8:10]+'00/wrfout_d01_'+date+'_00:00:00'\n",
    "    data = xr.open_dataset(file)\n",
    "\n",
    "T2 = data['PM2_5_DRY'][12,0,:,:]\n",
    "c = 'jet'\n"
   ]
  },
  {
   "cell_type": "code",
   "execution_count": 3,
   "metadata": {},
   "outputs": [],
   "source": [
    "plt.imsave(\"uafsmoke.png\", T2[::-1], cmap=c, vmin=0,vmax=250)"
   ]
  },
  {
   "cell_type": "code",
   "execution_count": null,
   "metadata": {},
   "outputs": [],
   "source": []
  }
 ],
 "metadata": {
  "kernelspec": {
   "display_name": "lklundellenv2",
   "language": "python",
   "name": "lklundellenv2"
  },
  "language_info": {
   "codemirror_mode": {
    "name": "ipython",
    "version": 3
   },
   "file_extension": ".py",
   "mimetype": "text/x-python",
   "name": "python",
   "nbconvert_exporter": "python",
   "pygments_lexer": "ipython3",
   "version": "3.7.7"
  }
 },
 "nbformat": 4,
 "nbformat_minor": 4
}
