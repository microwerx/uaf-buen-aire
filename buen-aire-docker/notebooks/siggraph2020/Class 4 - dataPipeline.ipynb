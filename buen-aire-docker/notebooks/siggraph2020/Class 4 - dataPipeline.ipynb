{
  "nbformat": 4,
  "nbformat_minor": 0,
  "metadata": {
    "colab": {
      "name": "dataPipeline.ipynb",
      "provenance": [],
      "collapsed_sections": []
    },
    "kernelspec": {
      "name": "python3",
      "display_name": "Python 3"
    }
  },
  "cells": [
    {
      "cell_type": "code",
      "metadata": {
        "id": "PiIDDU_iVVsG",
        "colab_type": "code",
        "colab": {}
      },
      "source": [
        "%tensorflow_version 2.x\n",
        "import numpy as np\n",
        "import pandas as pd\n",
        "import matplotlib.pyplot as plt\n",
        "import seaborn as sns\n",
        "import tensorflow as tf\n",
        "import skimage"
      ],
      "execution_count": 0,
      "outputs": []
    },
    {
      "cell_type": "code",
      "metadata": {
        "id": "GF3ongiwCjIo",
        "colab_type": "code",
        "colab": {}
      },
      "source": [
        "import tensorflow_datasets as tfds\n",
        "merced_builder = tfds.builder('uc_merced')\n",
        "# Download the dataset\n",
        "merced_builder.download_and_prepare()"
      ],
      "execution_count": 0,
      "outputs": []
    },
    {
      "cell_type": "code",
      "metadata": {
        "id": "rRd0_7ktI0Fd",
        "colab_type": "code",
        "colab": {}
      },
      "source": [
        "print(merced_builder.info)\n"
      ],
      "execution_count": 0,
      "outputs": []
    },
    {
      "cell_type": "code",
      "metadata": {
        "id": "SI-AmDmHNCem",
        "colab_type": "code",
        "colab": {}
      },
      "source": [
        "f = merced_builder.info.features['image']\n",
        "print(f)\n"
      ],
      "execution_count": 0,
      "outputs": []
    },
    {
      "cell_type": "code",
      "metadata": {
        "id": "vZeojrB73UmK",
        "colab_type": "code",
        "colab": {}
      },
      "source": [
        "# get the data as a tensorflow dataset\n",
        "datasets = merced_builder.as_dataset()\n",
        "full_ds = datasets['train']\n",
        "fig = tfds.show_examples(merced_builder.info, full_ds)"
      ],
      "execution_count": 0,
      "outputs": []
    },
    {
      "cell_type": "code",
      "metadata": {
        "id": "itV0zrh7Ab0a",
        "colab_type": "code",
        "colab": {}
      },
      "source": [
        "# add gaussian noise to image\n",
        "# note: this returns the noisy image as well as the original image\n",
        "def add_noise(original, std_dev=0.1):\n",
        "    noise = tf.random.normal(shape=tf.shape(original), mean=0.0, stddev=std_dev, dtype=tf.float32)\n",
        "    noisy = tf.add(original, noise)\n",
        "    noisy = tf.clip_by_value(noisy, 0.0, 1.0) # adding noise might make values > 1.0\n",
        "    # return both the noisy and the normal image\n",
        "    tensor_tuple = (noisy, original)\n",
        "    return tensor_tuple"
      ],
      "execution_count": 0,
      "outputs": []
    },
    {
      "cell_type": "code",
      "metadata": {
        "id": "h-trE5MqWYZt",
        "colab_type": "code",
        "colab": {}
      },
      "source": [
        "PATCH_WIDTH = 128\n",
        "PATCH_HEIGHT = 128\n",
        "# extracts patches of given size from the image\n",
        "def extract_patches(example, patch_width=PATCH_HEIGHT, patch_height=PATCH_HEIGHT):\n",
        "  img = example['image']\n",
        "  img = tf.image.convert_image_dtype(img, tf.float32)\n",
        "  patches = tf.image.extract_patches([img], \n",
        "     sizes=[1, patch_height, patch_width, 1], \n",
        "     strides=[1, patch_height, patch_width, 1],\n",
        "     rates=[1, 1, 1, 1],\n",
        "     padding='SAME')\n",
        "  img_tensor = tf.reshape(patches, [-1, patch_height, patch_width, 3])\n",
        "  return tf.data.Dataset.from_tensor_slices(img_tensor)"
      ],
      "execution_count": 0,
      "outputs": []
    },
    {
      "cell_type": "code",
      "metadata": {
        "id": "9BR1BNpdEsVk",
        "colab_type": "code",
        "colab": {}
      },
      "source": [
        "TRAIN_SIZE = int(2100*0.7)\n",
        "\n",
        "train_ds = full_ds.take(TRAIN_SIZE)\n",
        "test_ds = full_ds.skip(TRAIN_SIZE)"
      ],
      "execution_count": 0,
      "outputs": []
    },
    {
      "cell_type": "code",
      "metadata": {
        "id": "NRZrPwuIWBgR",
        "colab_type": "code",
        "colab": {}
      },
      "source": [
        "# prep dataset for training\n",
        "train_ds = train_ds.flat_map(extract_patches)\n",
        "train_ds = train_ds.map(add_noise)"
      ],
      "execution_count": 0,
      "outputs": []
    },
    {
      "cell_type": "code",
      "metadata": {
        "id": "esQDVlgDe8R_",
        "colab_type": "code",
        "colab": {}
      },
      "source": [
        "# prep dataset for testing\n",
        "# full-size patches in test data, want to test whole images\n",
        "test_ds = test_ds.flat_map(lambda x: extract_patches(x, 256, 256))\n",
        "test_ds = test_ds.map(add_noise)\n",
        "test_ds = test_ds.batch(1) # one item per batch"
      ],
      "execution_count": 0,
      "outputs": []
    },
    {
      "cell_type": "code",
      "metadata": {
        "id": "UrQVMTUDyhVk",
        "colab_type": "code",
        "colab": {}
      },
      "source": [
        "print(test_ds)"
      ],
      "execution_count": 0,
      "outputs": []
    },
    {
      "cell_type": "code",
      "metadata": {
        "id": "SGLbB3FIymlY",
        "colab_type": "code",
        "colab": {}
      },
      "source": [
        "some_patches = train_ds.take(5)\n",
        "print(some_patches)"
      ],
      "execution_count": 0,
      "outputs": []
    },
    {
      "cell_type": "code",
      "metadata": {
        "id": "rCrAKCRUS64a",
        "colab_type": "code",
        "colab": {}
      },
      "source": [
        "for noisy, orig in train_ds.shuffle(100).take(5): #shuffling before 'take' will give us different images each time\n",
        "    plt.figure()\n",
        "    plt.imshow(noisy)\n",
        "    plt.figure()\n",
        "    plt.imshow(orig)"
      ],
      "execution_count": 0,
      "outputs": []
    },
    {
      "cell_type": "code",
      "metadata": {
        "id": "7FDmtSicVoTl",
        "colab_type": "code",
        "colab": {}
      },
      "source": [
        "# repeat, shuffle and batch\n",
        "train_ds = train_ds.repeat().shuffle(1024).batch(32)\n",
        "# prefetch to asynchronously fetch batches while the model is training\n",
        "train_ds = train_ds.prefetch(tf.data.experimental.AUTOTUNE)"
      ],
      "execution_count": 0,
      "outputs": []
    }
  ]
}