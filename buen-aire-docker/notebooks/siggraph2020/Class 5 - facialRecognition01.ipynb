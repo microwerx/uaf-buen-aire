{
  "nbformat": 4,
  "nbformat_minor": 0,
  "metadata": {
    "colab": {
      "name": "facialRecognition01.ipynb",
      "provenance": [],
      "collapsed_sections": []
    },
    "kernelspec": {
      "name": "python3",
      "display_name": "Python 3"
    }
  },
  "cells": [
    {
      "cell_type": "code",
      "metadata": {
        "id": "PiIDDU_iVVsG",
        "colab_type": "code",
        "colab": {}
      },
      "source": [
        "%tensorflow_version 1.x\n",
        "from google.colab.patches import cv2_imshow\n",
        "import cv2"
      ],
      "execution_count": null,
      "outputs": []
    },
    {
      "cell_type": "code",
      "metadata": {
        "colab_type": "code",
        "id": "O750irw4XFao",
        "colab": {}
      },
      "source": [
        "# install the mtcnn package\n",
        "!pip install mtcnn"
      ],
      "execution_count": null,
      "outputs": []
    },
    {
      "cell_type": "code",
      "metadata": {
        "id": "I4EiuYXAebGg",
        "colab_type": "code",
        "colab": {}
      },
      "source": [
        "import mtcnn\n",
        "mtcnn_model = mtcnn.MTCNN()"
      ],
      "execution_count": null,
      "outputs": []
    },
    {
      "cell_type": "code",
      "metadata": {
        "id": "vrTue4W4Hn1X",
        "colab_type": "code",
        "colab": {}
      },
      "source": [
        "# download an image\n",
        "!curl -o pixney_faces.jpeg https://i.pinimg.com/originals/cf/04/14/cf0414f971aa50c87140ed49223da33b.jpg\n",
        "disneypixarfaces = cv2.imread('pixney_faces.jpeg')\n",
        "cv2_imshow(disneypixarfaces)"
      ],
      "execution_count": null,
      "outputs": []
    },
    {
      "cell_type": "code",
      "metadata": {
        "id": "QBxZ_E2KImA2",
        "colab_type": "code",
        "colab": {}
      },
      "source": [
        "def recognize_faces(new_img):\n",
        "  faces = mtcnn_model.detect_faces(new_img)\n",
        "  for i in range(0, len(faces)):\n",
        "      x, y, w, h = faces[i]['box']\n",
        "      # draw rectangle\n",
        "      cv2.rectangle(new_img, (x, y), (x+w, y+h), (255, 0, 0), 1)\n",
        "  return new_img"
      ],
      "execution_count": null,
      "outputs": []
    },
    {
      "cell_type": "code",
      "metadata": {
        "colab_type": "code",
        "id": "kJaQ9P_lndGw",
        "colab": {}
      },
      "source": [
        "img = disneypixarfaces\n",
        "img = cv2.cvtColor(img, cv2.COLOR_BGR2RGB)\n",
        "final_img = recognize_faces(img)\n",
        "cv2_imshow(final_img[:,:,::-1])"
      ],
      "execution_count": null,
      "outputs": []
    },
    {
      "cell_type": "code",
      "metadata": {
        "id": "9euBMf60JOpo",
        "colab_type": "code",
        "colab": {}
      },
      "source": [
        "# bonus: how to download and play video in colab\n",
        "# Download sample video\n",
        "!curl -o sample.mp4 https://www.sample-videos.com/video123/mp4/720/big_buck_bunny_720p_1mb.mp4\n",
        "from IPython.display import HTML\n",
        "from base64 import b64encode\n",
        "mp4 = open('sample.mp4','rb').read()\n",
        "data_url = \"data:video/mp4;base64,\" + b64encode(mp4).decode()\n",
        "HTML(\"\"\"\n",
        "<video width=400 controls>\n",
        "      <source src=\"%s\" type=\"video/mp4\">\n",
        "</video>\n",
        "\"\"\" % data_url)"
      ],
      "execution_count": null,
      "outputs": []
    }
  ]
}