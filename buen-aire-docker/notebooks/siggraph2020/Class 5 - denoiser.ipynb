{
  "nbformat": 4,
  "nbformat_minor": 0,
  "metadata": {
    "colab": {
      "name": "denoiser.ipynb",
      "provenance": [],
      "collapsed_sections": []
    },
    "kernelspec": {
      "name": "python3",
      "display_name": "Python 3"
    }
  },
  "cells": [
    {
      "cell_type": "code",
      "metadata": {
        "id": "PiIDDU_iVVsG",
        "colab_type": "code",
        "colab": {}
      },
      "source": [
        "%tensorflow_version 2.x\n",
        "import numpy as np\n",
        "import pandas as pd\n",
        "import matplotlib.pyplot as plt\n",
        "import seaborn as sns\n",
        "import tensorflow as tf\n",
        "import skimage"
      ],
      "execution_count": null,
      "outputs": []
    },
    {
      "cell_type": "code",
      "metadata": {
        "id": "GF3ongiwCjIo",
        "colab_type": "code",
        "colab": {}
      },
      "source": [
        "import tensorflow_datasets as tfds\n",
        "merced_builder = tfds.builder('uc_merced')\n",
        "# Download the dataset\n",
        "merced_builder.download_and_prepare()"
      ],
      "execution_count": null,
      "outputs": []
    },
    {
      "cell_type": "code",
      "metadata": {
        "id": "rRd0_7ktI0Fd",
        "colab_type": "code",
        "colab": {}
      },
      "source": [
        "print(merced_builder.info)"
      ],
      "execution_count": null,
      "outputs": []
    },
    {
      "cell_type": "code",
      "metadata": {
        "id": "SI-AmDmHNCem",
        "colab_type": "code",
        "colab": {}
      },
      "source": [
        "f = merced_builder.info.features['image']\n",
        "print(f)\n",
        "PATCH_WIDTH = 128\n",
        "PATCH_HEIGHT = 128"
      ],
      "execution_count": null,
      "outputs": []
    },
    {
      "cell_type": "code",
      "metadata": {
        "id": "vZeojrB73UmK",
        "colab_type": "code",
        "colab": {}
      },
      "source": [
        "datasets = merced_builder.as_dataset()\n",
        "full_ds = datasets['train']\n",
        "fig = tfds.show_examples(merced_builder.info, full_ds)"
      ],
      "execution_count": null,
      "outputs": []
    },
    {
      "cell_type": "code",
      "metadata": {
        "id": "itV0zrh7Ab0a",
        "colab_type": "code",
        "colab": {}
      },
      "source": [
        "# add gaussian noise to image\n",
        "# note: this returns the noisy image as well as the original image\n",
        "def add_noise(original, std_dev=0.1):\n",
        "    noise = tf.random.normal(shape=tf.shape(original), mean=0.0, stddev=std_dev, dtype=tf.float32)\n",
        "    noisy = tf.add(original, noise)\n",
        "    noisy = tf.clip_by_value(noisy, 0.0, 1.0) # adding noise might make values > 1.0\n",
        "    # return both the noisy and the normal image\n",
        "    tensor_tuple = (noisy, original)\n",
        "    return tensor_tuple"
      ],
      "execution_count": null,
      "outputs": []
    },
    {
      "cell_type": "code",
      "metadata": {
        "id": "h-trE5MqWYZt",
        "colab_type": "code",
        "colab": {}
      },
      "source": [
        "# extracts patches of given size from the image\n",
        "def extract_patches(example, patch_width=PATCH_HEIGHT, patch_height=PATCH_HEIGHT):\n",
        "  img = example['image']\n",
        "  img = tf.image.convert_image_dtype(img, tf.float32)\n",
        "  patches = tf.image.extract_patches([img], \n",
        "     sizes=[1, patch_height, patch_width, 1], \n",
        "     strides=[1, patch_height, patch_width, 1],\n",
        "     rates=[1, 1, 1, 1],\n",
        "     padding='SAME')\n",
        "  img_tensor = tf.reshape(patches, [-1, patch_height, patch_width, 3])\n",
        "  return tf.data.Dataset.from_tensor_slices(img_tensor)"
      ],
      "execution_count": null,
      "outputs": []
    },
    {
      "cell_type": "code",
      "metadata": {
        "id": "oGK5PdpIg7UY",
        "colab_type": "code",
        "colab": {}
      },
      "source": [
        "256*256*3*32 +32"
      ],
      "execution_count": null,
      "outputs": []
    },
    {
      "cell_type": "code",
      "metadata": {
        "id": "9BR1BNpdEsVk",
        "colab_type": "code",
        "colab": {}
      },
      "source": [
        "TRAIN_SIZE = int(2100*0.7)\n",
        "\n",
        "train_ds = full_ds.take(TRAIN_SIZE)\n",
        "test_ds = full_ds.skip(TRAIN_SIZE)"
      ],
      "execution_count": null,
      "outputs": []
    },
    {
      "cell_type": "code",
      "metadata": {
        "id": "NRZrPwuIWBgR",
        "colab_type": "code",
        "colab": {}
      },
      "source": [
        "# prep dataset for training\n",
        "train_ds = train_ds.flat_map(extract_patches)\n",
        "train_ds = train_ds.map(add_noise)"
      ],
      "execution_count": null,
      "outputs": []
    },
    {
      "cell_type": "code",
      "metadata": {
        "id": "esQDVlgDe8R_",
        "colab_type": "code",
        "colab": {}
      },
      "source": [
        "# prep dataset for testing\n",
        "# full-size patches in test data, want to test whole images\n",
        "test_ds = test_ds.flat_map(lambda x: extract_patches(x, 256, 256))\n",
        "test_ds = test_ds.map(add_noise)\n",
        "test_ds = test_ds.batch(1) # one item per batch"
      ],
      "execution_count": null,
      "outputs": []
    },
    {
      "cell_type": "code",
      "metadata": {
        "id": "rCrAKCRUS64a",
        "colab_type": "code",
        "colab": {}
      },
      "source": [
        "for noisy, orig in train_ds.shuffle(100).take(5): #shuffling before 'take' will give us different images each time\n",
        "    plt.figure()\n",
        "    plt.imshow(noisy)\n",
        "    plt.figure()\n",
        "    plt.imshow(orig)"
      ],
      "execution_count": null,
      "outputs": []
    },
    {
      "cell_type": "code",
      "metadata": {
        "id": "7FDmtSicVoTl",
        "colab_type": "code",
        "colab": {}
      },
      "source": [
        "# repeat, shuffle and batch\n",
        "train_ds = train_ds.repeat().shuffle(1024).batch(32)\n",
        "# prefetch to asynchronously fetch batches while the model is training\n",
        "train_ds = train_ds.prefetch(tf.data.experimental.AUTOTUNE)"
      ],
      "execution_count": null,
      "outputs": []
    },
    {
      "cell_type": "code",
      "metadata": {
        "id": "ggVoVXosf9aL",
        "colab_type": "code",
        "colab": {}
      },
      "source": [
        "def create_modelCNN():\n",
        "    # build a sequential CNN model\n",
        "    model = tf.keras.models.Sequential([\n",
        "        # a stack of Conv2D layers\n",
        "        tf.keras.layers.Conv2D(32, (3, 3), activation='relu', padding='same', input_shape=(None, None, 3)),\n",
        "        tf.keras.layers.Conv2D(64, (3, 3), activation='relu', padding='same',),\n",
        "        tf.keras.layers.Conv2D(3, (3, 3), activation='relu', padding='same',),\n",
        "    ])\n",
        "    return model"
      ],
      "execution_count": null,
      "outputs": []
    },
    {
      "cell_type": "code",
      "metadata": {
        "id": "u0zNDSlJguBM",
        "colab_type": "code",
        "colab": {}
      },
      "source": [
        "def create_modelAE():\n",
        "    # build a sequential AutoEncoder model (not used here: just for comparison of number of parameters)\n",
        "    model = tf.keras.models.Sequential([\n",
        "        # a stack of Conv2D layers\n",
        "        tf.keras.layers.Dense(32, activation='relu', input_shape=(None, None, 3)),\n",
        "        tf.keras.layers.Dense(128*128*3, activation='sigmoid'),\n",
        "\t      tf.keras.layers.Reshape((128, 128, 3))\n",
        "\t  ])\n",
        "    return model"
      ],
      "execution_count": null,
      "outputs": []
    },
    {
      "cell_type": "code",
      "metadata": {
        "id": "YSXLPhpggfL2",
        "colab_type": "code",
        "colab": {}
      },
      "source": [
        "modelCNN = create_modelCNN()\n",
        "print(modelCNN.summary())"
      ],
      "execution_count": null,
      "outputs": []
    },
    {
      "cell_type": "code",
      "metadata": {
        "id": "6yAtvAd6izhP",
        "colab_type": "code",
        "colab": {}
      },
      "source": [
        "modelAE = create_modelAE()\n",
        "print(modelAE.summary())"
      ],
      "execution_count": null,
      "outputs": []
    },
    {
      "cell_type": "code",
      "metadata": {
        "id": "Djti_AdHlHoj",
        "colab_type": "code",
        "colab": {}
      },
      "source": [
        "model = modelCNN\n",
        "# layers"
      ],
      "execution_count": null,
      "outputs": []
    },
    {
      "cell_type": "code",
      "metadata": {
        "id": "CqFlPJkxgU2H",
        "colab_type": "code",
        "colab": {}
      },
      "source": [
        "# compile\n",
        "model.compile(optimizer='adamax', loss='mae')"
      ],
      "execution_count": null,
      "outputs": []
    },
    {
      "cell_type": "code",
      "metadata": {
        "id": "tWyYxt3klDq3",
        "colab_type": "code",
        "colab": {}
      },
      "source": [
        "train_hist = model.fit(train_ds, epochs=10, steps_per_epoch=10)\n",
        "                                 "
      ],
      "execution_count": null,
      "outputs": []
    },
    {
      "cell_type": "code",
      "metadata": {
        "id": "7O_N0tzflcaf",
        "colab_type": "code",
        "colab": {}
      },
      "source": [
        "NUM_PREDICT=3\n",
        "prediction_batches = test_ds.take(NUM_PREDICT)"
      ],
      "execution_count": null,
      "outputs": []
    },
    {
      "cell_type": "code",
      "metadata": {
        "id": "gdqVpHsTlgNh",
        "colab_type": "code",
        "colab": {}
      },
      "source": [
        "def show_results():\n",
        "    # plot\n",
        "    n = NUM_PREDICT  \n",
        "    plt.figure(figsize=(15, 15))\n",
        "    for i in range(n):\n",
        "        # display noisy image\n",
        "        ax = plt.subplot(4, n, i + 1)\n",
        "        ax.set_title(\"Noisy\")\n",
        "        plt.imshow(noisy_imgs[i])\n",
        "        ax.get_xaxis().set_visible(False)\n",
        "        ax.get_yaxis().set_visible(False)\n",
        "\n",
        "        # display reconstruction\n",
        "        ax = plt.subplot(4, n, i + 1 + n)\n",
        "        ax.set_title(\"Denoised\")\n",
        "        plt.imshow(denoised_imgs[i])\n",
        "        ax.get_xaxis().set_visible(False)\n",
        "        ax.get_yaxis().set_visible(False)\n",
        "\n",
        "        # display ground truth\n",
        "        ax = plt.subplot(4, n, i + 1 + n + n)\n",
        "        ax.set_title(\"Ground Truth\")\n",
        "        plt.imshow(hires_imgs[i])\n",
        "        ax.get_xaxis().set_visible(False)\n",
        "        ax.get_yaxis().set_visible(False)\n",
        "\n",
        "        # display the difference (ssim)\n",
        "        ax = plt.subplot(4, n, i + 1 + n + n + n)\n",
        "        ax.set_title(\"Difference\")\n",
        "        plt.imshow(skimage.util.compare_images(hires_imgs[i], denoised_imgs[i], method='diff'))\n",
        "        ax.get_xaxis().set_visible(False)\n",
        "        ax.get_yaxis().set_visible(False)\n",
        "    plt.show()"
      ],
      "execution_count": null,
      "outputs": []
    },
    {
      "cell_type": "code",
      "metadata": {
        "id": "KBDl49xjOHsJ",
        "colab_type": "code",
        "colab": {}
      },
      "source": [
        "hires_imgs = []\n",
        "noisy_imgs = []\n",
        "denoised_imgs = []\n",
        "n=0\n",
        "for nimg,himg in prediction_batches:\n",
        "    # predict denoising from the noisy images\n",
        "    pimg = model.predict(nimg)\n",
        "    ssim = tf.image.ssim(tf.convert_to_tensor(np.expand_dims(pimg, 0)), himg, 1.0)\n",
        "    print('SSIM: image:', n, ssim)\n",
        "    # remove the extra batch dimension for matplotlib\n",
        "    denoised_imgs.append(tf.squeeze(pimg))\n",
        "    hires_imgs.append(tf.squeeze(himg))\n",
        "    noisy_imgs.append(tf.squeeze(nimg))\n",
        "    n += 1"
      ],
      "execution_count": null,
      "outputs": []
    },
    {
      "cell_type": "code",
      "metadata": {
        "id": "8Azgx94TO-2q",
        "colab_type": "code",
        "colab": {}
      },
      "source": [
        "show_results()"
      ],
      "execution_count": null,
      "outputs": []
    }
  ]
}