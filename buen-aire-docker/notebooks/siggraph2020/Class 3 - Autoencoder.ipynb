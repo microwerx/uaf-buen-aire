{
  "nbformat": 4,
  "nbformat_minor": 0,
  "metadata": {
    "colab": {
      "name": "Autoencoder.ipynb",
      "provenance": [],
      "collapsed_sections": []
    },
    "kernelspec": {
      "name": "python3",
      "display_name": "Python 3"
    }
  },
  "cells": [
    {
      "cell_type": "code",
      "metadata": {
        "id": "PiIDDU_iVVsG",
        "colab_type": "code",
        "colab": {}
      },
      "source": [
        "%tensorflow_version 2.x\n",
        "import numpy as np\n",
        "import pandas as pd\n",
        "import matplotlib.pyplot as plt\n",
        "import seaborn as sns\n",
        "import tensorflow as tf"
      ],
      "execution_count": 0,
      "outputs": []
    },
    {
      "cell_type": "code",
      "metadata": {
        "id": "GF3ongiwCjIo",
        "colab_type": "code",
        "colab": {}
      },
      "source": [
        "mnist = tf.keras.datasets.mnist # mnist data of grayscale images of handwritten digits\n",
        "(x_train, y_train), (x_test, y_test) = mnist.load_data() # load it into training and testing sets\n",
        "x_train, x_test = x_train/255.0, x_test/255.0 # the data is in the range (0,255) grayscale value for each pixel, normalize it"
      ],
      "execution_count": 0,
      "outputs": []
    },
    {
      "cell_type": "code",
      "metadata": {
        "id": "rRd0_7ktI0Fd",
        "colab_type": "code",
        "colab": {}
      },
      "source": [
        "print(x_train.shape, x_test.shape) # look at how many images are there"
      ],
      "execution_count": 0,
      "outputs": []
    },
    {
      "cell_type": "code",
      "metadata": {
        "id": "MMa4n9DUI25i",
        "colab_type": "code",
        "colab": {}
      },
      "source": [
        "print(y_train.shape, y_test.shape)\n",
        "print(y_train[:10])"
      ],
      "execution_count": 0,
      "outputs": []
    },
    {
      "cell_type": "code",
      "metadata": {
        "id": "rCrAKCRUS64a",
        "colab_type": "code",
        "colab": {}
      },
      "source": [
        "# plot the first ten images\n",
        "for i in range(10):\n",
        "    plt.figure()\n",
        "    plt.imshow(x_train[i], cmap='gray')"
      ],
      "execution_count": 0,
      "outputs": []
    },
    {
      "cell_type": "code",
      "metadata": {
        "id": "u0zNDSlJguBM",
        "colab_type": "code",
        "colab": {}
      },
      "source": [
        "#---------------------------------------------------\n",
        "# build an autoencoder model\n",
        "def create_modelAE():\n",
        "    # build a sequential AutoEncoder model\n",
        "    model = tf.keras.models.Sequential([\n",
        "        # the input layer                               \n",
        "        tf.keras.layers.InputLayer((28,28)),\n",
        "        # flatten it into a single column\n",
        "        tf.keras.layers.Flatten(), \n",
        "        # bottleneck layer\n",
        "        tf.keras.layers.Dense(32, activation='relu'),\n",
        "        # the output layer\n",
        "        tf.keras.layers.Dense(28*28, activation='sigmoid'),\n",
        "        # the output layer, reshape the flattened column into an image shape\n",
        "\t      tf.keras.layers.Reshape((28, 28, 1))\n",
        "\t  ])\n",
        "    return model"
      ],
      "execution_count": 0,
      "outputs": []
    },
    {
      "cell_type": "code",
      "metadata": {
        "id": "6yAtvAd6izhP",
        "colab_type": "code",
        "outputId": "291990ad-ed7a-4a30-abfa-bcd50028eab7",
        "colab": {
          "base_uri": "https://localhost:8080/",
          "height": 332
        }
      },
      "source": [
        "modelAE = create_modelAE()\n",
        "print(modelAE.summary())"
      ],
      "execution_count": 7,
      "outputs": [
        {
          "output_type": "stream",
          "text": [
            "Model: \"sequential\"\n",
            "_________________________________________________________________\n",
            "Layer (type)                 Output Shape              Param #   \n",
            "=================================================================\n",
            "flatten (Flatten)            (None, 784)               0         \n",
            "_________________________________________________________________\n",
            "dense (Dense)                (None, 32)                25120     \n",
            "_________________________________________________________________\n",
            "dense_1 (Dense)              (None, 784)               25872     \n",
            "_________________________________________________________________\n",
            "reshape (Reshape)            (None, 28, 28, 1)         0         \n",
            "=================================================================\n",
            "Total params: 50,992\n",
            "Trainable params: 50,992\n",
            "Non-trainable params: 0\n",
            "_________________________________________________________________\n",
            "None\n"
          ],
          "name": "stdout"
        }
      ]
    },
    {
      "cell_type": "code",
      "metadata": {
        "id": "Ql_eSskiJ2y4",
        "colab_type": "code",
        "colab": {}
      },
      "source": [
        "500*500*3*32 + 32"
      ],
      "execution_count": 0,
      "outputs": []
    },
    {
      "cell_type": "code",
      "metadata": {
        "id": "Djti_AdHlHoj",
        "colab_type": "code",
        "colab": {}
      },
      "source": [
        "model = modelAE"
      ],
      "execution_count": 0,
      "outputs": []
    },
    {
      "cell_type": "code",
      "metadata": {
        "id": "CqFlPJkxgU2H",
        "colab_type": "code",
        "colab": {}
      },
      "source": [
        "# compile, using the adamax optimizer for gradient descend and mean square error for loss\n",
        "model.compile(optimizer='adamax', loss='mse')"
      ],
      "execution_count": 0,
      "outputs": []
    },
    {
      "cell_type": "code",
      "metadata": {
        "id": "tWyYxt3klDq3",
        "colab_type": "code",
        "outputId": "4a218475-b2ed-4903-e3ab-c35232ac0146",
        "colab": {
          "base_uri": "https://localhost:8080/",
          "height": 384
        }
      },
      "source": [
        "# fit (train) the model on the test data. The input and the output is the same because\n",
        "# we are trying to re-construct the original input after compression\n",
        "train_hist = model.fit(x_train, x_train, epochs=10)                        "
      ],
      "execution_count": 10,
      "outputs": [
        {
          "output_type": "stream",
          "text": [
            "Epoch 1/10\n",
            "1875/1875 [==============================] - 3s 2ms/step - loss: 0.0463\n",
            "Epoch 2/10\n",
            "1875/1875 [==============================] - 3s 2ms/step - loss: 0.0224\n",
            "Epoch 3/10\n",
            "1875/1875 [==============================] - 3s 2ms/step - loss: 0.0159\n",
            "Epoch 4/10\n",
            "1875/1875 [==============================] - 3s 2ms/step - loss: 0.0130\n",
            "Epoch 5/10\n",
            "1875/1875 [==============================] - 3s 2ms/step - loss: 0.0117\n",
            "Epoch 6/10\n",
            "1875/1875 [==============================] - 4s 2ms/step - loss: 0.0111\n",
            "Epoch 7/10\n",
            "1875/1875 [==============================] - 4s 2ms/step - loss: 0.0108\n",
            "Epoch 8/10\n",
            "1875/1875 [==============================] - 4s 2ms/step - loss: 0.0106\n",
            "Epoch 9/10\n",
            "1875/1875 [==============================] - 4s 2ms/step - loss: 0.0105\n",
            "Epoch 10/10\n",
            "1875/1875 [==============================] - 4s 2ms/step - loss: 0.0104\n"
          ],
          "name": "stdout"
        }
      ]
    },
    {
      "cell_type": "code",
      "metadata": {
        "id": "gdqVpHsTlgNh",
        "colab_type": "code",
        "colab": {}
      },
      "source": [
        "#---------------------------------------------------\n",
        "# plots n images in two rows, the first row is the original images\n",
        "# and the second row is the reconstructed (decoded) images\n",
        "def show_results(n):\n",
        "    # plot\n",
        "    plt.figure(figsize=(12, 12))\n",
        "    for i in range(n):\n",
        "        # display original image\n",
        "        ax = plt.subplot(3, n, i + 1)\n",
        "        ax.set_title(\"Original\")\n",
        "        plt.imshow(original[i])\n",
        "        plt.gray()\n",
        "        ax.get_xaxis().set_visible(False)\n",
        "        ax.get_yaxis().set_visible(False)\n",
        "\n",
        "        # display reconstruction\n",
        "        ax = plt.subplot(3, n, i + 1 + n)\n",
        "        ax.set_title(\"Decoded\")\n",
        "        plt.imshow(decoded[i])\n",
        "        plt.gray()\n",
        "        ax.get_xaxis().set_visible(False)\n",
        "        ax.get_yaxis().set_visible(False)\n",
        "    plt.show()"
      ],
      "execution_count": 0,
      "outputs": []
    },
    {
      "cell_type": "code",
      "metadata": {
        "id": "KBDl49xjOHsJ",
        "colab_type": "code",
        "colab": {}
      },
      "source": [
        "original = []\n",
        "decoded = []\n",
        "n=0\n",
        "# predict the first 10 items from the test set\n",
        "for img in x_test[:10]:\n",
        "    #predict\n",
        "    pimg = model.predict(tf.expand_dims(img, 0))\n",
        "    original.append(img) # original\n",
        "    decoded.append(pimg.squeeze()) # predicted\n",
        "    n += 1"
      ],
      "execution_count": 0,
      "outputs": []
    },
    {
      "cell_type": "code",
      "metadata": {
        "id": "8Azgx94TO-2q",
        "colab_type": "code",
        "outputId": "7e1c3ab8-3e39-4e31-d39f-3ae807d6c140",
        "colab": {
          "base_uri": "https://localhost:8080/",
          "height": 358
        }
      },
      "source": [
        "show_results(n)"
      ],
      "execution_count": 13,
      "outputs": [
        {
          "output_type": "display_data",
          "data": {
            "image/png": "[encoded data removed]",
            "text/plain": [
              "<Figure size 864x864 with 20 Axes>"
            ]
          },
          "metadata": {
            "tags": [],
            "needs_background": "light"
          }
        }
      ]
    },
    {
      "cell_type": "code",
      "metadata": {
        "id": "uT6E9d60jmho",
        "colab_type": "code",
        "colab": {}
      },
      "source": [
        "28*28/32"
      ],
      "execution_count": 0,
      "outputs": []
    }
  ]
}