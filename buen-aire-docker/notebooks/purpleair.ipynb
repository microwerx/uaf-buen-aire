{
 "cells": [
  {
   "cell_type": "code",
   "execution_count": 2,
   "metadata": {
    "tags": []
   },
   "outputs": [
    {
     "output_type": "stream",
     "name": "stdout",
     "text": "TensorFlow version: 2.2.0\n"
    }
   ],
   "source": [
    "import pathlib\n",
    "\n",
    "import matplotlib.pyplot as plt\n",
    "import numpy as np\n",
    "import pandas as pd\n",
    "import seaborn as sns\n",
    "\n",
    "import tensorflow as tf\n",
    "\n",
    "from tensorflow import keras\n",
    "from tensorflow.keras import layers\n",
    "\n",
    "print(\"TensorFlow version: \" + tf.__version__)\n",
    "\n",
    "import tensorflow_docs as tfdocs\n",
    "import tensorflow_docs.plots\n",
    "import tensorflow_docs.modeling"
   ]
  },
  {
   "cell_type": "code",
   "execution_count": 6,
   "metadata": {},
   "outputs": [
    {
     "output_type": "execute_result",
     "data": {
      "text/plain": "'C:\\\\Users\\\\jonat\\\\.keras\\\\datasets\\\\purpleair.data'"
     },
     "metadata": {},
     "execution_count": 6
    }
   ],
   "source": [
    "dataset_path = keras.utils.get_file(\"purpleair.data\", \"https://uafbuenaire.azurewebsites.net/api/purpleair\")\n",
    "dataset_path"
   ]
  },
  {
   "cell_type": "code",
   "execution_count": 7,
   "metadata": {},
   "outputs": [
    {
     "output_type": "execute_result",
     "data": {
      "text/plain": "        ID                 Label DEVICE_LOCATIONTYPE  THINGSPEAK_PRIMARY_ID  \\\n200  23792            Vide Way B                 NaN                 664008   \n201  28929     Willow Community              outside                 729844   \n202  28930   Willow Community  B                 NaN                 729846   \n203  22519    Woodcenter Busstop             outside                 653639   \n204  22520  Woodcenter Busstop B                 NaN                 653642   \n\n    THINGSPEAK_PRIMARY_ID_READ_KEY  THINGSPEAK_SECONDARY_ID  \\\n200               DBKR8OJ1XYI9CRDO                   664009   \n201               AKPHAB4X79TBIL32                   729845   \n202               L00G67F0DUUI5QKZ                   729847   \n203               4FXAFO2PPDW1B6T6                   653641   \n204               Z133JISCIBNWCGFM                   653643   \n\n    THINGSPEAK_SECONDARY_ID_READ_KEY        Lat         Lon  PM2_5Value  ...  \\\n200                 4ZYYGXEFBJC90TVI  64.904524 -147.730978        2.14  ...   \n201                 GF05H5EM8N6RBDHW  61.721425 -150.040968        1.37  ...   \n202                 MKHSYE2TQ0ORUELO  61.721425 -150.040968        1.12  ...   \n203                 WKB6MXU1GTU4XDXL  64.857714 -147.822528        3.34  ...   \n204                 U5YVN1XHRQ0NGVT0  64.857714 -147.822528        3.15  ...   \n\n                       Type Hidden isOwner  humidity  temp_f  pressure  AGE  \\\n200                     NaN  false       0       NaN     NaN       NaN    1   \n201  PMS5003+PMS5003+BME280  false       0      41.0    68.0   1010.17    0   \n202                     NaN  false       0       NaN     NaN       NaN    0   \n203  PMS5003+PMS5003+BME280  false       0      46.0    70.0    998.00    0   \n204                     NaN  false       0       NaN     NaN       NaN    0   \n\n                                                 Stats ParentID  Flag  \n200  {\"v\":2.14,\"v1\":2.98,\"v2\":3.3,\"v3\":3.43,\"v4\":3....  23791.0   NaN  \n201  {\"v\":1.37,\"v1\":1.19,\"v2\":1.39,\"v3\":1.48,\"v4\":1...      NaN   NaN  \n202  {\"v\":1.12,\"v1\":1.1,\"v2\":1.29,\"v3\":1.39,\"v4\":1....  28929.0   NaN  \n203  {\"v\":3.34,\"v1\":3.2,\"v2\":3.54,\"v3\":3.82,\"v4\":3....      NaN   NaN  \n204  {\"v\":3.15,\"v1\":3.7,\"v2\":4.1,\"v3\":4.35,\"v4\":4.2...  22519.0   NaN  \n\n[5 rows x 21 columns]",
      "text/html": "<div>\n<style scoped>\n    .dataframe tbody tr th:only-of-type {\n        vertical-align: middle;\n    }\n\n    .dataframe tbody tr th {\n        vertical-align: top;\n    }\n\n    .dataframe thead th {\n        text-align: right;\n    }\n</style>\n<table border=\"1\" class=\"dataframe\">\n  <thead>\n    <tr style=\"text-align: right;\">\n      <th></th>\n      <th>ID</th>\n      <th>Label</th>\n      <th>DEVICE_LOCATIONTYPE</th>\n      <th>THINGSPEAK_PRIMARY_ID</th>\n      <th>THINGSPEAK_PRIMARY_ID_READ_KEY</th>\n      <th>THINGSPEAK_SECONDARY_ID</th>\n      <th>THINGSPEAK_SECONDARY_ID_READ_KEY</th>\n      <th>Lat</th>\n      <th>Lon</th>\n      <th>PM2_5Value</th>\n      <th>...</th>\n      <th>Type</th>\n      <th>Hidden</th>\n      <th>isOwner</th>\n      <th>humidity</th>\n      <th>temp_f</th>\n      <th>pressure</th>\n      <th>AGE</th>\n      <th>Stats</th>\n      <th>ParentID</th>\n      <th>Flag</th>\n    </tr>\n  </thead>\n  <tbody>\n    <tr>\n      <th>200</th>\n      <td>23792</td>\n      <td>Vide Way B</td>\n      <td>NaN</td>\n      <td>664008</td>\n      <td>DBKR8OJ1XYI9CRDO</td>\n      <td>664009</td>\n      <td>4ZYYGXEFBJC90TVI</td>\n      <td>64.904524</td>\n      <td>-147.730978</td>\n      <td>2.14</td>\n      <td>...</td>\n      <td>NaN</td>\n      <td>false</td>\n      <td>0</td>\n      <td>NaN</td>\n      <td>NaN</td>\n      <td>NaN</td>\n      <td>1</td>\n      <td>{\"v\":2.14,\"v1\":2.98,\"v2\":3.3,\"v3\":3.43,\"v4\":3....</td>\n      <td>23791.0</td>\n      <td>NaN</td>\n    </tr>\n    <tr>\n      <th>201</th>\n      <td>28929</td>\n      <td>Willow Community</td>\n      <td>outside</td>\n      <td>729844</td>\n      <td>AKPHAB4X79TBIL32</td>\n      <td>729845</td>\n      <td>GF05H5EM8N6RBDHW</td>\n      <td>61.721425</td>\n      <td>-150.040968</td>\n      <td>1.37</td>\n      <td>...</td>\n      <td>PMS5003+PMS5003+BME280</td>\n      <td>false</td>\n      <td>0</td>\n      <td>41.0</td>\n      <td>68.0</td>\n      <td>1010.17</td>\n      <td>0</td>\n      <td>{\"v\":1.37,\"v1\":1.19,\"v2\":1.39,\"v3\":1.48,\"v4\":1...</td>\n      <td>NaN</td>\n      <td>NaN</td>\n    </tr>\n    <tr>\n      <th>202</th>\n      <td>28930</td>\n      <td>Willow Community  B</td>\n      <td>NaN</td>\n      <td>729846</td>\n      <td>L00G67F0DUUI5QKZ</td>\n      <td>729847</td>\n      <td>MKHSYE2TQ0ORUELO</td>\n      <td>61.721425</td>\n      <td>-150.040968</td>\n      <td>1.12</td>\n      <td>...</td>\n      <td>NaN</td>\n      <td>false</td>\n      <td>0</td>\n      <td>NaN</td>\n      <td>NaN</td>\n      <td>NaN</td>\n      <td>0</td>\n      <td>{\"v\":1.12,\"v1\":1.1,\"v2\":1.29,\"v3\":1.39,\"v4\":1....</td>\n      <td>28929.0</td>\n      <td>NaN</td>\n    </tr>\n    <tr>\n      <th>203</th>\n      <td>22519</td>\n      <td>Woodcenter Busstop</td>\n      <td>outside</td>\n      <td>653639</td>\n      <td>4FXAFO2PPDW1B6T6</td>\n      <td>653641</td>\n      <td>WKB6MXU1GTU4XDXL</td>\n      <td>64.857714</td>\n      <td>-147.822528</td>\n      <td>3.34</td>\n      <td>...</td>\n      <td>PMS5003+PMS5003+BME280</td>\n      <td>false</td>\n      <td>0</td>\n      <td>46.0</td>\n      <td>70.0</td>\n      <td>998.00</td>\n      <td>0</td>\n      <td>{\"v\":3.34,\"v1\":3.2,\"v2\":3.54,\"v3\":3.82,\"v4\":3....</td>\n      <td>NaN</td>\n      <td>NaN</td>\n    </tr>\n    <tr>\n      <th>204</th>\n      <td>22520</td>\n      <td>Woodcenter Busstop B</td>\n      <td>NaN</td>\n      <td>653642</td>\n      <td>Z133JISCIBNWCGFM</td>\n      <td>653643</td>\n      <td>U5YVN1XHRQ0NGVT0</td>\n      <td>64.857714</td>\n      <td>-147.822528</td>\n      <td>3.15</td>\n      <td>...</td>\n      <td>NaN</td>\n      <td>false</td>\n      <td>0</td>\n      <td>NaN</td>\n      <td>NaN</td>\n      <td>NaN</td>\n      <td>0</td>\n      <td>{\"v\":3.15,\"v1\":3.7,\"v2\":4.1,\"v3\":4.35,\"v4\":4.2...</td>\n      <td>22519.0</td>\n      <td>NaN</td>\n    </tr>\n  </tbody>\n</table>\n<p>5 rows × 21 columns</p>\n</div>"
     },
     "metadata": {},
     "execution_count": 7
    }
   ],
   "source": [
    "raw_dataset = pd.read_json(dataset_path)\n",
    "\n",
    "dataset = raw_dataset.copy()\n",
    "dataset.tail()\n"
   ]
  },
  {
   "cell_type": "code",
   "execution_count": null,
   "metadata": {},
   "outputs": [],
   "source": []
  }
 ],
 "metadata": {
  "kernelspec": {
   "display_name": "Python 3.8.3 64-bit",
   "language": "python",
   "name": "python_defaultSpec_1591990414116"
  },
  "language_info": {
   "codemirror_mode": {
    "name": "ipython",
    "version": 3
   },
   "file_extension": ".py",
   "mimetype": "text/x-python",
   "name": "python",
   "nbconvert_exporter": "python",
   "pygments_lexer": "ipython3",
   "version": "3.8.3-final"
  }
 },
 "nbformat": 4,
 "nbformat_minor": 2
}